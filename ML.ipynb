{
  "cells": [
    {
      "cell_type": "markdown",
      "metadata": {
        "id": "LcmcUOcmWFNV"
      },
      "source": [
        "Optical Character Recognition"
      ]
    },
    {
      "cell_type": "code",
      "execution_count": 5,
      "metadata": {
        "colab": {
          "base_uri": "https://localhost:8080/"
        },
        "id": "m-2PE8iIYETl",
        "outputId": "021550b5-aa42-445a-fe5c-4132594e22c6"
      },
      "outputs": [
        {
          "name": "stderr",
          "output_type": "stream",
          "text": [
            "\"pip\" �� ���� ����७��� ��� ���譥�\n",
            "��������, �ᯮ��塞�� �ணࠬ��� ��� ������ 䠩���.\n",
            "\"pip\" �� ���� ����७��� ��� ���譥�\n",
            "��������, �ᯮ��塞�� �ணࠬ��� ��� ������ 䠩���.\n"
          ]
        }
      ],
      "source": [
        "!pip install easyocr -q\n",
        "!pip install matplotlib -q\n"
      ]
    },
    {
      "cell_type": "markdown",
      "metadata": {
        "id": "N94QG9reWeQF"
      },
      "source": [
        "google colab and EasyOCR + Mistral AI API"
      ]
    },
    {
      "cell_type": "code",
      "execution_count": 6,
      "metadata": {
        "id": "uR1sG6D2XNib"
      },
      "outputs": [
        {
          "ename": "ModuleNotFoundError",
          "evalue": "No module named 'easyocr'",
          "output_type": "error",
          "traceback": [
            "\u001b[31m---------------------------------------------------------------------------\u001b[39m",
            "\u001b[31mModuleNotFoundError\u001b[39m                       Traceback (most recent call last)",
            "\u001b[36mCell\u001b[39m\u001b[36m \u001b[39m\u001b[32mIn[6]\u001b[39m\u001b[32m, line 1\u001b[39m\n\u001b[32m----> \u001b[39m\u001b[32m1\u001b[39m \u001b[38;5;28;01mimport\u001b[39;00m\u001b[38;5;250m \u001b[39m\u001b[34;01measyocr\u001b[39;00m\n\u001b[32m      2\u001b[39m \u001b[38;5;28;01mimport\u001b[39;00m\u001b[38;5;250m \u001b[39m\u001b[34;01mmatplotlib\u001b[39;00m\u001b[34;01m.\u001b[39;00m\u001b[34;01mpyplot\u001b[39;00m\u001b[38;5;250m \u001b[39m\u001b[38;5;28;01mas\u001b[39;00m\u001b[38;5;250m \u001b[39m\u001b[34;01mplt\u001b[39;00m\n\u001b[32m      3\u001b[39m \u001b[38;5;28;01mimport\u001b[39;00m\u001b[38;5;250m \u001b[39m\u001b[34;01mcv2\u001b[39;00m\n",
            "\u001b[31mModuleNotFoundError\u001b[39m: No module named 'easyocr'"
          ]
        }
      ],
      "source": [
        "import easyocr\n",
        "import matplotlib.pyplot as plt\n",
        "import cv2\n",
        "import numpy as np\n",
        "import requests\n",
        "import json\n",
        "from PIL import Image\n",
        "from IPython.display import display"
      ]
    },
    {
      "cell_type": "code",
      "execution_count": null,
      "metadata": {
        "colab": {
          "base_uri": "https://localhost:8080/",
          "height": 73
        },
        "id": "_fI15qJjieRU",
        "outputId": "f46c6ba4-1183-4869-ce0c-4849c4df92e2"
      },
      "outputs": [],
      "source": [
        "from google.colab import files\n",
        "uploaded = files.upload()\n"
      ]
    },
    {
      "cell_type": "code",
      "execution_count": null,
      "metadata": {
        "id": "25O1Ud8SjQ6Z"
      },
      "outputs": [],
      "source": [
        "uploaded_path = \"/content/first.png\""
      ]
    },
    {
      "cell_type": "code",
      "execution_count": null,
      "metadata": {
        "id": "pai0drZRkxrw"
      },
      "outputs": [],
      "source": [
        "new_uploaded_path = \"/content/second.png\""
      ]
    },
    {
      "cell_type": "code",
      "execution_count": null,
      "metadata": {
        "colab": {
          "base_uri": "https://localhost:8080/"
        },
        "id": "6LXXjzdBYEH3",
        "outputId": "b04a3a1a-d13c-4ed4-8c21-74ab4edf02bc"
      },
      "outputs": [],
      "source": [
        "# 📖 OCR: извлекаем текст\n",
        "reader = easyocr.Reader(['ru'], gpu=False)\n",
        "result = reader.readtext(new_uploaded_path, detail=0)\n",
        "extracted_text = \"\\n\".join(result)\n",
        "print(\"🔍 Извлечённый текст:\\n\", extracted_text)\n"
      ]
    },
    {
      "cell_type": "markdown",
      "metadata": {
        "id": "l_v-gdojkU3n"
      },
      "source": []
    },
    {
      "cell_type": "code",
      "execution_count": null,
      "metadata": {
        "id": "LiP0bbpWisaH"
      },
      "outputs": [],
      "source": [
        "MISTRAL_API_KEY = \"IMIGKviFBvjLbN3wUT4KR2MBZkPIr79t\"  # 🔐 Вставь свой ключ\n",
        "MISTRAL_ENDPOINT = \"https://api.mistral.ai/v1/chat/completions\"  # Пример endpoint\n"
      ]
    },
    {
      "cell_type": "code",
      "execution_count": null,
      "metadata": {
        "id": "gjtBB_Y9jwtw"
      },
      "outputs": [],
      "source": [
        "headers = {\n",
        "    \"Authorization\": f\"Bearer {MISTRAL_API_KEY}\",\n",
        "    \"Content-Type\": \"application/json\"\n",
        "}\n"
      ]
    },
    {
      "cell_type": "code",
      "execution_count": null,
      "metadata": {
        "id": "SMs-jsDrjylp"
      },
      "outputs": [],
      "source": [
        "prompt = f\"\"\"\n",
        "Ты — ассистент, который получает распознанный OCR текст с документа.\n",
        "Извлеки ключевые поля проекта и верни в JSON:\n",
        "- id_проекта\n",
        "- наименование_проекта\n",
        "- БН\n",
        "- исполнитель\n",
        "- сроки_реализации\n",
        "- общий_бюджет\n",
        "Текст:\n",
        "\\\"\\\"\\\"\n",
        "{extracted_text}\n",
        "\\\"\\\"\\\"\n",
        "\"\"\"\n"
      ]
    },
    {
      "cell_type": "code",
      "execution_count": null,
      "metadata": {
        "id": "l9BvHsNyj1Ft"
      },
      "outputs": [],
      "source": [
        "payload = {\n",
        "    \"model\": \"mistral-small\",  # Или другая доступная модель\n",
        "    \"messages\": [\n",
        "        {\"role\": \"user\", \"content\": prompt}\n",
        "    ],\n",
        "    \"temperature\": 0.3\n",
        "}\n"
      ]
    },
    {
      "cell_type": "code",
      "execution_count": null,
      "metadata": {
        "colab": {
          "base_uri": "https://localhost:8080/"
        },
        "id": "EYhcNi8yj3G3",
        "outputId": "9c3b09b2-7a9a-4e80-9acd-e0b88570e82c"
      },
      "outputs": [],
      "source": [
        "response = requests.post(MISTRAL_ENDPOINT, headers=headers, json=payload)\n",
        "\n",
        "if response.status_code == 200:\n",
        "    structured_data = response.json()[\"choices\"][0][\"message\"][\"content\"]\n",
        "    print(\"📦 Результат от Mistral:\\n\", structured_data)\n",
        "else:\n",
        "    print(\"❌ Ошибка:\", response.text)"
      ]
    },
    {
      "cell_type": "code",
      "execution_count": null,
      "metadata": {
        "id": "FAmx655zj5Lq"
      },
      "outputs": [],
      "source": []
    }
  ],
  "metadata": {
    "accelerator": "GPU",
    "colab": {
      "gpuType": "T4",
      "provenance": []
    },
    "kernelspec": {
      "display_name": "Python 3",
      "name": "python3"
    },
    "language_info": {
      "codemirror_mode": {
        "name": "ipython",
        "version": 3
      },
      "file_extension": ".py",
      "mimetype": "text/x-python",
      "name": "python",
      "nbconvert_exporter": "python",
      "pygments_lexer": "ipython3",
      "version": "3.12.2"
    }
  },
  "nbformat": 4,
  "nbformat_minor": 0
}
